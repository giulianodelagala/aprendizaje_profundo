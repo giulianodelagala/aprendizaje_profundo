{
 "cells": [
  {
   "cell_type": "code",
   "execution_count": 1,
   "metadata": {},
   "outputs": [],
   "source": [
    "import torch\n",
    "import torch.nn as nn\n",
    "from torchsummary import summary"
   ]
  },
  {
   "attachments": {},
   "cell_type": "markdown",
   "metadata": {},
   "source": [
    "# Arquitectura Xception"
   ]
  },
  {
   "attachments": {},
   "cell_type": "markdown",
   "metadata": {},
   "source": [
    "## Actividad 1\n",
    "Investigue y explique la mejora que introduce la arquitectura Xception en relación a su predecesor Inception.\n",
    "Como hint, estudie el concepto de Depthwise Separable Convolution y cómo impacta esto en el tiempo de entrenamiento de la red."
   ]
  },
  {
   "attachments": {},
   "cell_type": "markdown",
   "metadata": {},
   "source": [
    "Xception introduce dos mejoras principales:\n",
    "\n",
    "**Depthwise Separable Convolution**: es una alternativa a la convolución clásica para ser más eficiente en términos de tiempo de computación. Se divide en dos pasos:\n",
    "* Depthwise convolution: es un primer paso donde en vez de aplicar una convolución $d \\times d \\times C$ donde $d$ es el tamaño del kernel y $C$ el número de canales, aplica una convolución $d \\times d \\times 1$ es decir a un solo canal. \n",
    "* Pointwise convolution: opera una convolución clásica de tamaño $1 \\times 1 \\times N$ donde $N$ es el número de kernels.\n",
    "Siguiendo este procedimiento se reduce el número de operaciones en un factor propocional a $1/N$.\n",
    "\n",
    "**Shortcuts entre bloques de convolución como en ResNet**: implementa el uso de bloques residuales, es decir que cada capa alimenta a la siguiente capa y también de manera directa saltando algunas capas intermedias. La idea detrás es evitar el \"vanishing gradient\" y poder entrenar redes más profundas."
   ]
  },
  {
   "attachments": {},
   "cell_type": "markdown",
   "metadata": {},
   "source": [
    "## Actividad 2\n",
    "Explique, en no más de tres lı́neas cada uno, la utilidad o función que cumplen en la arquitectura de una CNNs:"
   ]
  },
  {
   "attachments": {},
   "cell_type": "markdown",
   "metadata": {},
   "source": [
    "**1. Capa densa (Fully connected layer)**\n",
    "Las capas densas usualmente son ubicadas a la salida de la red con fines de clasificación. Usualmente tiene el mismo número de nodos de salida que el número de clases y junto a una función softmax lo cual nos permite interpretar los valores de esta última capa como la probabilidad de pertenecer a una cierta clase.\n",
    "\n",
    "**2. Kernel de convolución 1x1**\n",
    "El uso principal es el cambio de dimensionalidad en el espacio del filtro. Si el número de filtros convolucionales de salida es mayor que el de entrada $F_1 > F$ se incrementa la dimensionalidad, caso contrario $F_1 < F$, se reduce. Reducir la dimensionalidad reduce el costo computacional. \n",
    "\n",
    "**3. MaxPooling**\n",
    "MaxPooling es usado para reducir la \"resolución\" de una capa convolucional, la red estará \"mirando\" áreas más grandes de la imagen y reducirá el número de parámetros, por lo tanto reducirá el costo computacional. También ayudará a \"ver\" los pixeles más activados o importantes descartando los otros.\n",
    "\n"
   ]
  },
  {
   "attachments": {},
   "cell_type": "markdown",
   "metadata": {},
   "source": [
    "## Actividad 3\n",
    "Como primera actividad, tendrán que recrear la operación de Depthwise Separable Convolution rellenando el siguiente código:"
   ]
  },
  {
   "cell_type": "code",
   "execution_count": 5,
   "metadata": {},
   "outputs": [],
   "source": [
    "class SeparableConv2d(nn.Module):\n",
    "    def __init__(self, in_channels, out_channels, kernel_size, bias=False, **kwargs):\n",
    "        super(SeparableConv2d, self).__init__()\n",
    "        \n",
    "        # aplicamos una convolución por canal \n",
    "        self.depthwise_conv = nn.Conv2d(\n",
    "            in_channels, in_channels, groups=in_channels, kernel_size=kernel_size, padding='valid', bias=bias)\n",
    "        self.pointwise_conv = nn.Conv2d(\n",
    "            in_channels, out_channels, kernel_size=1, padding='valid', bias=bias)\n",
    "\n",
    "    def forward(self, x):\n",
    "        # No cambiar\n",
    "        x = self.depthwise_conv(x)\n",
    "        x = self.pointwise_conv(x)\n",
    "\n",
    "        return x\n"
   ]
  },
  {
   "attachments": {},
   "cell_type": "markdown",
   "metadata": {},
   "source": [
    "Además, responda explı́citamente: ¿cuáles son los valores de los parámetros kernel_size y stride en\n",
    "la operación self.pointwise_conv?.\n",
    "\n",
    "* kernel_size = 1 (filtros de 1 x 1)\n",
    "* stride = 1 (por defecto)"
   ]
  },
  {
   "attachments": {},
   "cell_type": "markdown",
   "metadata": {},
   "source": [
    "## Actividad 4\n",
    "Compare el número de parámetros entre un bloque de SeparableConv2d y una convolución para un vol-\n",
    "umen de entrada de forma [3, 300, 300]."
   ]
  },
  {
   "attachments": {},
   "cell_type": "markdown",
   "metadata": {},
   "source": [
    "Considerando un out_channel = 10, tenemos:\n",
    "* SeparableConv2d: 57 parámetros\n",
    "* Classic Conv2d: 270 parámetros"
   ]
  },
  {
   "cell_type": "code",
   "execution_count": 18,
   "metadata": {},
   "outputs": [
    {
     "name": "stdout",
     "output_type": "stream",
     "text": [
      "----------------------------------------------------------------\n",
      "        Layer (type)               Output Shape         Param #\n",
      "================================================================\n",
      "            Conv2d-1          [-1, 3, 298, 298]              27\n",
      "            Conv2d-2         [-1, 10, 298, 298]              30\n",
      "   SeparableConv2d-3         [-1, 10, 298, 298]               0\n",
      "================================================================\n",
      "Total params: 57\n",
      "Trainable params: 57\n",
      "Non-trainable params: 0\n",
      "----------------------------------------------------------------\n",
      "Input size (MB): 1.03\n",
      "Forward/backward pass size (MB): 15.58\n",
      "Params size (MB): 0.00\n",
      "Estimated Total Size (MB): 16.61\n",
      "----------------------------------------------------------------\n"
     ]
    }
   ],
   "source": [
    "model_sep = nn.Sequential(SeparableConv2d(3,10,3))\n",
    "summary(model_sep.cuda(), input_size=(3,300,300))"
   ]
  },
  {
   "cell_type": "code",
   "execution_count": 17,
   "metadata": {},
   "outputs": [
    {
     "name": "stdout",
     "output_type": "stream",
     "text": [
      "----------------------------------------------------------------\n",
      "        Layer (type)               Output Shape         Param #\n",
      "================================================================\n",
      "            Conv2d-1         [-1, 10, 298, 298]             270\n",
      "================================================================\n",
      "Total params: 270\n",
      "Trainable params: 270\n",
      "Non-trainable params: 0\n",
      "----------------------------------------------------------------\n",
      "Input size (MB): 1.03\n",
      "Forward/backward pass size (MB): 6.78\n",
      "Params size (MB): 0.00\n",
      "Estimated Total Size (MB): 7.81\n",
      "----------------------------------------------------------------\n"
     ]
    }
   ],
   "source": [
    "model_classic = nn.Sequential(\n",
    "    nn.Conv2d(3, 10, kernel_size=3, padding='valid', bias=False))\n",
    "summary(model_classic.cuda(), input_size=(3,300,300))"
   ]
  },
  {
   "attachments": {},
   "cell_type": "markdown",
   "metadata": {},
   "source": [
    "## Actividad 5\n",
    "En esta segunda actividad crearemos el bloque base de la red, que se compone de etapas subsecuentes de la operación SeparableConv2d además de ReLU, BatchNorm y MaxPooling, junto con una conexión\n",
    "skip-forward que varı́a según la etapa donde nos encontramos. Para esto, tendrá que completar la siguiente clase:"
   ]
  },
  {
   "cell_type": "code",
   "execution_count": null,
   "metadata": {},
   "outputs": [],
   "source": [
    "class XceptionBlock(nn.Module):\n",
    "    def __init__(self, in_channels, out_channels, start_with_relu=True,\n",
    "                 residual_connection=False, num_subblocks=2,\n",
    "                 last_layer='MaxPooling', **kwargs):\n",
    "        super(XceptionBlock, self).__init__()\n",
    "\n",
    "        modules = []\n",
    "        # Agregue los módulos según corresponda\n",
    "        # ...\n",
    "\n",
    "        self.modules = nn.Sequential(*modules)\n",
    "\n",
    "        # Agregamos sub-bloques segun corresponda\n",
    "        for _ in range(num_subblocks):\n",
    "            modules += self._subblock(out_channels, out_channels)\n",
    "\n",
    "        # Agregamos layer final segun corresponda\n",
    "        if last_layer == 'MaxPooling':\n",
    "            modules.append(nn.MaxPool2d(kernel_size=3, stride=2, padding=1))\n",
    "\n",
    "        # Agregamos conexion skip-forward\n",
    "        if residual_connection:\n",
    "            self.skip_forward = None\n",
    "        else:\n",
    "            self.skip_forward = nn.Sequential(\n",
    "                nn.Conv2d(in_channels, out_channels, kernel_size=1, stride=2),\n",
    "                nn.BatchNorm2d(out_channels)\n",
    "            )\n",
    "\n",
    "        # Definimos si partimos o no con ReLU\n",
    "        if not start_with_relu:\n",
    "            modules = modules[1:]\n",
    "\n",
    "        self.modules = nn.Sequential(*modules)\n",
    "\n",
    "    def _subblock(self, in_channels, out_channels):\n",
    "        \"\"\"\n",
    "        Construye un sub-bloque compuesto de:\n",
    "            ReLU -> SeparableConv2d -> BatchNormalization \n",
    "\n",
    "        Admite no incluir la ReLU mediante el parametro \"start_with_relu\"\n",
    "        \"\"\"\n",
    "        modules = []\n",
    "        modules.append(nn.ReLU(inplace=True))\n",
    "        modules.append(SeparableConv2d(\n",
    "            in_channels, out_channels, kernel_size=3, stride=1))\n",
    "        modules.append(nn.BatchNorm2d(out_channels))\n",
    "\n",
    "        return modules\n",
    "\n",
    "    def forward(self, x):\n",
    "        \"\"\"\n",
    "        Forward pass de un bloque.\n",
    "        \"\"\"\n",
    "        # No cambiar\n",
    "        Fx = self.modules(x)\n",
    "\n",
    "        if not self.skip_forward:\n",
    "            Fx += x\n",
    "        else:\n",
    "            Fx += self.skip_forward(x)\n",
    "\n",
    "        return Fx\n"
   ]
  },
  {
   "attachments": {},
   "cell_type": "markdown",
   "metadata": {},
   "source": [
    "## Actividad 6\n",
    "Por último, complete la clase Xception que instancia el modelo completo. Para esto, tendrá que usar la clase XceptionBlock, instanciando cada etapa por separado en la inicialización de la clase y rellenando las funciones para cada flujo. Note que el método Xception.forward ya está implementado."
   ]
  },
  {
   "attachments": {},
   "cell_type": "markdown",
   "metadata": {},
   "source": [
    "## Actividad 7\n",
    "Usando la función torchsummary.summary(), visualice y verifique que los tamaños de los outputs de\n",
    "cada flujo sean los correctos. Explicite el nombre exacto de cada capa y sus dimensiones."
   ]
  },
  {
   "attachments": {},
   "cell_type": "markdown",
   "metadata": {},
   "source": [
    "# Implementación y entrenamiento de un clasificador de perros"
   ]
  },
  {
   "cell_type": "code",
   "execution_count": 25,
   "metadata": {},
   "outputs": [],
   "source": [
    "device = torch.device(\"cuda\")\n",
    "# model.cuda()"
   ]
  }
 ],
 "metadata": {
  "kernelspec": {
   "display_name": "Python 3",
   "language": "python",
   "name": "python3"
  },
  "language_info": {
   "codemirror_mode": {
    "name": "ipython",
    "version": 3
   },
   "file_extension": ".py",
   "mimetype": "text/x-python",
   "name": "python",
   "nbconvert_exporter": "python",
   "pygments_lexer": "ipython3",
   "version": "3.10.9"
  },
  "orig_nbformat": 4,
  "vscode": {
   "interpreter": {
    "hash": "31f2aee4e71d21fbe5cf8b01ff0e069b9275f58929596ceb00d14d90e3e16cd6"
   }
  }
 },
 "nbformat": 4,
 "nbformat_minor": 2
}
